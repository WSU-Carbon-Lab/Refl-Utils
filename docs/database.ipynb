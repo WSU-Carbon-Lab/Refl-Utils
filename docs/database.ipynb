{
 "cells": [
  {
   "cell_type": "code",
   "execution_count": null,
   "metadata": {},
   "outputs": [],
   "source": [
    "import polars as pl\n",
    "from pyref.core.config import AppConfig\n",
    "from pyref.core.loader import Fits\n",
    "\n",
    "data = AppConfig.DATA_DIR\n",
    "fits = Fits(data)"
   ]
  },
  {
   "cell_type": "code",
   "execution_count": null,
   "metadata": {},
   "outputs": [],
   "source": []
  }
 ],
 "metadata": {
  "language_info": {
   "name": "python"
  }
 },
 "nbformat": 4,
 "nbformat_minor": 2
}
