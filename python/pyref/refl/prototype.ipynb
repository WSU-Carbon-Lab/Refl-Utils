{
 "cells": [
  {
   "cell_type": "markdown",
   "metadata": {},
   "source": [
    "# Prototyping notebook for future version"
   ]
  },
  {
   "cell_type": "code",
   "execution_count": 11,
   "metadata": {},
   "outputs": [],
   "source": [
    ":dep astrors\n",
    ":dep polars\n",
    ":dep numpy\n",
    ":dep plotters\n",
    ":dep glob"
   ]
  },
  {
   "cell_type": "code",
   "execution_count": 15,
   "metadata": {},
   "outputs": [],
   "source": [
    ":dep regex"
   ]
  },
  {
   "cell_type": "code",
   "execution_count": 124,
   "metadata": {},
   "outputs": [],
   "source": [
    "use std::path::Path;\n",
    "use std::fs::File;\n",
    "use glob::glob;\n",
    "use polars::prelude::*;\n",
    "use regex::Regex;\n",
    "use astrors::io\n",
    "\n",
    "fn main() -> Result<DataFrame, PolarsError> {\n",
    "    let path_str = \"C:/Users/hduva/Washington State University (email.wsu.edu)/Carbon Lab Research Group - Documents/Synchrotron Logistics and Data/ALS - Berkeley/Data/BL1101/2024Jun/XRR\";\n",
    "\n",
    "    let files = scan_directory(path_str);\n",
    "    let (sample_names, scan_ids, file_ids) = parse_files(files);\n",
    "    let df = create_dataframe(sample_names, scan_ids, file_ids)?;\n",
    "\n",
    "    return Ok(df);\n",
    "}\n",
    "\n",
    "// Function to scan the directory for .fits files\n",
    "fn scan_directory(path_str: &str) -> Vec<String> {\n",
    "    let mut files = Vec::new();\n",
    "    for entry in glob(&format!(\"{}/**/*.fits\", path_str)).expect(\"Failed to read glob pattern\") {\n",
    "        match entry {\n",
    "            Ok(path) => {\n",
    "                let file_path = path.to_str().unwrap();\n",
    "                if !file_path.contains(\"Captured Image\") {\n",
    "                    files.push(file_path.to_string());\n",
    "                }\n",
    "            }\n",
    "            Err(e) => panic!(\"{:?}\", e),\n",
    "        }\n",
    "    }\n",
    "    files\n",
    "}\n",
    "\n",
    "// Function to parse file names and extract SampleName, ScanID, and FileID\n",
    "fn parse_files(files: Vec<String>) -> (Vec<String>, Vec<String>, Vec<String>) {\n",
    "    let re = Regex::new(r\"([0-9]{5})-(\\d+)\\.fits$\").unwrap();\n",
    "    let mut sample_names = Vec::new();\n",
    "    let mut scan_ids = Vec::new();\n",
    "    let mut file_ids = Vec::new();\n",
    "\n",
    "    for file_path in files {\n",
    "        get_header(&file_path);\n",
    "        let file_name = Path::new(&file_path).file_name().unwrap().to_str().unwrap();\n",
    "\n",
    "        if let Some(caps) = re.captures(file_name) {\n",
    "            let scan_id = caps.get(1).unwrap().as_str().to_string();\n",
    "            let file_id = caps.get(2).unwrap().as_str().to_string();\n",
    "            let sample_name = file_name.split(scan_id.as_str()).collect::<Vec<&str>>()[0].trim_end_matches('-').to_string();\n",
    "\n",
    "            sample_names.push(sample_name);\n",
    "            scan_ids.push(scan_id);\n",
    "            file_ids.push(file_id);\n",
    "        } else {\n",
    "            println!(\"No match for file: {}\", file_name);\n",
    "        }\n",
    "    }\n",
    "    (sample_names, scan_ids, file_ids)\n",
    "}\n",
    "\n",
    "// Function to create a DataFrame from the collected data\n",
    "fn create_dataframe(sample_names: Vec<String>, scan_ids: Vec<String>, file_ids: Vec<String>) -> Result<DataFrame, PolarsError> {\n",
    "    let df = DataFrame::new(vec![\n",
    "        Series::new(\"SampleName\", &sample_names),\n",
    "        Series::new(\"ScanID\", &scan_ids),\n",
    "        Series::new(\"FileID\", &file_ids),\n",
    "    ])?;\n",
    "    Ok(df)\n",
    "}\n",
    "\n",
    "/// Function to extract header data from the files\n",
    "fn get_header(file_path: &str) {\n",
    "    let mut fits_file = File::open(file_path).unwrap();\n",
    "    let mut header = io::Header::new();\n",
    "    header.read_from_file(&mut fits_file).unwrap();\n",
    "    header.pretty_print_advanced();\n",
    "}\n",
    "\n",
    "let df = main();\n",
    "println!(\"{:?}\", df);"
   ]
  },
  {
   "cell_type": "code",
   "execution_count": null,
   "metadata": {},
   "outputs": [],
   "source": []
  }
 ],
 "metadata": {
  "kernelspec": {
   "display_name": "Rust",
   "language": "rust",
   "name": "rust"
  },
  "language_info": {
   "codemirror_mode": "rust",
   "file_extension": ".rs",
   "mimetype": "text/rust",
   "name": "rust",
   "pygment_lexer": "rust",
   "version": ""
  }
 },
 "nbformat": 4,
 "nbformat_minor": 2
}
