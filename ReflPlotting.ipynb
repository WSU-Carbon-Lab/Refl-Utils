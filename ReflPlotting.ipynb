{
 "cells": [
  {
   "cell_type": "code",
   "execution_count": null,
   "metadata": {},
   "outputs": [],
   "source": [
    "import sys\n",
    "import matplotlib.pyplot as plt\n",
    "import warnings\n",
    "import pandas as pd\n",
    "warnings.filterwarnings('ignore')\n",
    "\n",
    "import pandas as pd\n",
    "import seaborn as sns\n",
    "sys.path.append(r'reflutils')\n",
    "from reflutils import FileDialog, Refl, tree\n",
    "\n",
    "sns.set_style(\"white\",rc = {\"xtick.direction\": \"in\", \"ytick.direction\": \"in\", \"xtick.top\":True, \"ytick.right\":True, \"xtick.bottom\" : True, \"ytick.left\", \"\": True, \"grid.linestyle\": \"--\"})\n",
    "sns.set_context('notebook')\n",
    "sns.set_palette('colorblind')"
   ]
  },
  {
   "cell_type": "code",
   "execution_count": null,
   "metadata": {},
   "outputs": [],
   "source": [
    "df = pd.DataFrame({'x': [1, 2, 3], 'y': [10, 20, 30]})\n",
    "fig, ax = plt.subplots()\n",
    "ax.plot('x', 'y', data=df)\n",
    "ax.set_title('title')\n",
    "ax.set_xlabel('x')\n",
    "ax.set_ylabel('y')\n",
    "ax.legend(bbox_to_anchor=(1.02, .5), loc='upper left',borderaxespad=0)\n",
    "plt.show()"
   ]
  },
  {
   "cell_type": "code",
   "execution_count": null,
   "metadata": {},
   "outputs": [],
   "source": [
    "xrrDataBase = FileDialog.getDirectory(title=\"Select the XRR Database\")\n",
    "\n",
    "# tree(xrrDataBase)"
   ]
  },
  {
   "cell_type": "code",
   "execution_count": null,
   "metadata": {},
   "outputs": [],
   "source": [
    "tree(xrrDataBase)"
   ]
  },
  {
   "cell_type": "code",
   "execution_count": null,
   "metadata": {},
   "outputs": [],
   "source": [
    "energyList = xrrDataBase.iterdir()\n",
    "energyList = [x for x in energyList if x.is_dir()]\n",
    "POL = [\"100.0\", \"190.0\"]"
   ]
  },
  {
   "cell_type": "code",
   "execution_count": null,
   "metadata": {},
   "outputs": [],
   "source": [
    "def multiPlot():\n",
    "    combinedDataFrame = pd.DataFrame()\n",
    "    wantedCols = [\"Q\", \"Refl\", \"Err\"]\n",
    "    for e in energyList:\n",
    "        try:\n",
    "            xrr = Refl(e / POL[1])\n",
    "            xrr.plot()\n",
    "        except Exception as err:\n",
    "            print(f\"{e} - Could not plot {e.name} {POL[1]}\")\n",
    "            continue\n",
    "        while True:\n",
    "            if input(\"Press enter to continue\") == \"\":\n",
    "                break\n",
    "            elif input(\"Press q to quit\") == \"q\":\n",
    "                return 0\n",
    "        plt.plot()"
   ]
  },
  {
   "cell_type": "code",
   "execution_count": 168,
   "metadata": {},
   "outputs": [],
   "source": [
    "multiPlot()"
   ]
  },
  {
   "cell_type": "code",
   "execution_count": null,
   "metadata": {},
   "outputs": [],
   "source": [
    "import pandas as pd\n",
    "import seaborn as sns"
   ]
  },
  {
   "cell_type": "code",
   "execution_count": null,
   "metadata": {},
   "outputs": [],
   "source": [
    "def multiEnPlot(pol :str = POL[0]):\n",
    "    SCALE = -.5\n",
    "    combinedDataFrame = pd.DataFrame()\n",
    "    wantedCols = [\"Q\", \"Refl\", \"Err\"]\n",
    "    fig, ax = plt.subplots(figsize=(6, 12))\n",
    "    sns.color_palette(\"colorblind\", n_colors=len(energyList))\n",
    "    for i, e in enumerate(energyList):\n",
    "        try:\n",
    "            xrr = Refl(e / pol)\n",
    "            combinedCols = [f\"{colName}_{e.name}_{pol}\" for colName in wantedCols]\n",
    "            combinedDataFrame[combinedCols] = xrr.refl[wantedCols]\n",
    "\n",
    "            x = xrr.refl[\"Q\"]\n",
    "            y = xrr.refl[\"Refl\"]\n",
    "            yerr = xrr.refl[\"Err\"]\n",
    "\n",
    "            ax.errorbar(x, y * 10 ** (SCALE * i), yerr=yerr * 10 ** (SCALE*i), label=f\"{e.name} {pol}\", fmt=\"o\")\n",
    "            ax.legend()\n",
    "            ax.set_xlabel(\"Q\")\n",
    "            ax.set_ylabel(\"Reflectivity\")\n",
    "            ax.set_title(\"Reflectivity Curves \\nCompared Across Energies\", fontsize=16)\n",
    "            ax.set_yscale(\"log\")\n",
    "            if i == 0:\n",
    "                ax.set_xlim(0, max(x))\n",
    "            else:\n",
    "                if ax.get_xlim()[1] > max(x):\n",
    "                    ax.set_xlim(0, max(x))\n",
    "            ax.set_ylim(auto = True)\n",
    "        except Exception as err:\n",
    "            print(f\"{err} - No data for  {e.name} {pol}\")\n",
    "            continue\n",
    "    plt.show()\n",
    "    return combinedDataFrame"
   ]
  },
  {
   "cell_type": "code",
   "execution_count": null,
   "metadata": {},
   "outputs": [],
   "source": [
    "combinedRefl = multiEnPlot()"
   ]
  },
  {
   "cell_type": "code",
   "execution_count": null,
   "metadata": {},
   "outputs": [],
   "source": []
  },
  {
   "cell_type": "code",
   "execution_count": null,
   "metadata": {},
   "outputs": [],
   "source": [
    "# combinedRefl.to_csv(xrrDataBase / f\"EnergyComparison_{POL[0]}.csv\", index=False)\n",
    "combinedRefl = pd.read_csv(xrrDataBase / f\"EnergyComparison_{POL[0]}.csv\")"
   ]
  },
  {
   "cell_type": "code",
   "execution_count": null,
   "metadata": {},
   "outputs": [],
   "source": [
    "from re import S\n",
    "from turtle import st\n",
    "\n",
    "from matplotlib import axes\n",
    "\n",
    "\n",
    "def justPlotting(df):\n",
    "    # Plotting the data\n",
    "    # fig, ax = plt.subplots(figsize=(6, 12))\n",
    "    SCALE = -.5\n",
    "    df = df.dropna()\n",
    "    Q = df.columns[0]\n",
    "    R = df.columns[1::3]\n",
    "    Err = df.columns[2::3]\n",
    "    fig, axes = plt.subplots(figsize=(4, 11))\n",
    "    for i in range(len(R)):\n",
    "        df.loc[:,R[i]] = df.loc[:,R[i]] * 10 ** (i*SCALE)\n",
    "        df.loc[:,Err[i]] = df.loc[:,Err[i]] * 10 ** (i*SCALE)\n",
    "        axes.errorbar(df.loc[:,Q], df.loc[:,R[i]], yerr=df.loc[:,Err[i]], fmt='.', label=R[i])\n",
    "    axes.set_xlabel(\"Q\")\n",
    "    axes.set_ylabel('Reflectivity')\n",
    "    axes.set_yscale('log')\n",
    "    plt.legend()\n",
    "\n",
    "justPlotting(combinedRefl)"
   ]
  },
  {
   "cell_type": "code",
   "execution_count": null,
   "metadata": {},
   "outputs": [],
   "source": [
    "roomTemp = [pd.read_csv(csv).dropna(axis=1) for csv in xrrDataBase.glob(\"*.csv\") if \"RT\" in csv.name]"
   ]
  },
  {
   "cell_type": "code",
   "execution_count": null,
   "metadata": {},
   "outputs": [],
   "source": [
    "fig, ax = plt.subplots(figsize=(8,8))\n",
    "sns.set_palette(\"colorblind\", n_colors=2)\n",
    "Q250_100 = roomTemp[0][\"Q_250.0_100.0\"]\n",
    "Q283p7_100 = roomTemp[0][\"Q_283.7_100.0\"]\n",
    "R250_100 = roomTemp[0][\"Refl_250.0_100.0\"]\n",
    "R283p7_100 = roomTemp[0][\"Refl_283.7_100.0\"]\n",
    "Err250_100 = roomTemp[0][\"Err_250.0_100.0\"]\n",
    "Err283p7_100 = roomTemp[0][\"Err_283.7_100.0\"]\n",
    "\n",
    "Q250_190 = roomTemp[1][\"Q_250.0_190.0\"]\n",
    "Q283p7_190 = roomTemp[1][\"Q_283.7_190.0\"]\n",
    "R250_190 = roomTemp[1][\"Refl_250.0_190.0\"]\n",
    "R283p7_190 = roomTemp[1][\"Refl_283.7_190.0\"]\n",
    "Err250_190 = roomTemp[1][\"Err_250.0_190.0\"]\n",
    "Err283p7_190 = roomTemp[1][\"Err_283.7_190.0\"]\n",
    "\n",
    "ax.errorbar(Q250_100, R250_100*2, yerr=Err250_100*2, fmt='.-')\n",
    "ax.errorbar(Q250_190, R250_190, yerr=Err250_190, fmt='.-')\n",
    "\n",
    "ax.errorbar(Q283p7_100, R283p7_100*2e8, yerr=Err250_100*2e8, fmt='.-')\n",
    "ax.errorbar(Q283p7_190, R283p7_190*1e8, yerr=Err250_190*1e8, fmt='.-')\n",
    "\n",
    "plt.title(\"Reflectivity of Room Temp \\nPrepared ZnPc Samples\", fontsize=16)\n",
    "ax.legend([\"spol\", \"ppol\"])\n",
    "ax.hlines(5, 0, 0.25, linestyles='dashed', color = \"grey\")\n",
    "ax.text(0,1e8,r\"$\\times 10^7$\")\n",
    "ax.text(.125,3e8,\"283.7 eV\", verticalalignment='center', horizontalalignment='center', fontsize=14)\n",
    "ax.text(.125,1e0,\"250 eV\", verticalalignment='center', horizontalalignment='center', fontsize=14)\n",
    "\n",
    "plt.semilogy()\n",
    "plt.xlim(0,0.25)\n",
    "plt.xlabel(r\"Q $[/AA^{-1}]$\")\n",
    "plt.ylabel(r\"Reflectivity\")"
   ]
  },
  {
   "cell_type": "code",
   "execution_count": null,
   "metadata": {},
   "outputs": [],
   "source": [
    "C60 = [pd.read_csv(csv).dropna(axis=1) for csv in xrrDataBase.glob(\"*.csv\") if \"RT\" in csv.name]"
   ]
  },
  {
   "cell_type": "code",
   "execution_count": null,
   "metadata": {},
   "outputs": [],
   "source": [
    "fig, ax = plt.subplots(figsize=(8,8))\n",
    "sns.set_palette(\"colorblind\", n_colors=2)\n",
    "Q250_100 = roomTemp[0][\"Q_250.0_100.0\"]\n",
    "Q283p7_100 = roomTemp[0][\"Q_283.7_100.0\"]\n",
    "R250_100 = roomTemp[0][\"Refl_250.0_100.0\"]\n",
    "R283p7_100 = roomTemp[0][\"Refl_283.7_100.0\"]\n",
    "Err250_100 = roomTemp[0][\"Err_250.0_100.0\"]\n",
    "Err283p7_100 = roomTemp[0][\"Err_283.7_100.0\"]\n",
    "\n",
    "Q250_190 = roomTemp[1][\"Q_250.0_190.0\"]\n",
    "Q283p7_190 = roomTemp[1][\"Q_283.7_190.0\"]\n",
    "R250_190 = roomTemp[1][\"Refl_250.0_190.0\"]\n",
    "R283p7_190 = roomTemp[1][\"Refl_283.7_190.0\"]\n",
    "Err250_190 = roomTemp[1][\"Err_250.0_190.0\"]\n",
    "Err283p7_190 = roomTemp[1][\"Err_283.7_190.0\"]\n",
    "\n",
    "ax.errorbar(Q250_100, R250_100*2, yerr=Err250_100*2, fmt='.-')\n",
    "ax.errorbar(Q250_190, R250_190, yerr=Err250_190, fmt='.-')\n",
    "\n",
    "ax.errorbar(Q283p7_100, R283p7_100*2e8, yerr=Err250_100*2e8, fmt='.-')\n",
    "ax.errorbar(Q283p7_190, R283p7_190*1e8, yerr=Err250_190*1e8, fmt='.-')\n",
    "\n",
    "plt.title(\"Reflectivity of Room Temp \\nPrepared ZnPc Samples\", fontsize=16)\n",
    "ax.legend([\"spol\", \"ppol\"])\n",
    "ax.hlines(5, 0, 0.25, linestyles='dashed', color = \"grey\")\n",
    "ax.text(0,1e8,r\"$\\times 10^7$\")\n",
    "ax.text(.125,3e8,\"283.7 eV\", verticalalignment='center', horizontalalignment='center', fontsize=14)\n",
    "ax.text(.125,1e0,\"250 eV\", verticalalignment='center', horizontalalignment='center', fontsize=14)\n",
    "\n",
    "plt.semilogy()\n",
    "plt.xlim(0,0.25)\n",
    "plt.xlabel(r\"Q $[/AA^{-1}]$\")\n",
    "plt.ylabel(r\"Reflectivity\")"
   ]
  },
  {
   "cell_type": "code",
   "execution_count": null,
   "metadata": {},
   "outputs": [],
   "source": [
    "fig, ax = plt.subplots(figsize=(8,8))\n",
    "sns.set_palette(\"colorblind\", n_colors=2)\n",
    "Q250_100 = roomTemp[0][\"Q_250.0_100.0\"]\n",
    "Q283p7_100 = roomTemp[0][\"Q_283.7_100.0\"]\n",
    "R250_100 = roomTemp[0][\"Refl_250.0_100.0\"]\n",
    "R283p7_100 = roomTemp[0][\"Refl_283.7_100.0\"]\n",
    "Err250_100 = roomTemp[0][\"Err_250.0_100.0\"]\n",
    "Err283p7_100 = roomTemp[0][\"Err_283.7_100.0\"]\n",
    "\n",
    "Q250_190 = roomTemp[1][\"Q_250.0_190.0\"]\n",
    "Q283p7_190 = roomTemp[1][\"Q_283.7_190.0\"]\n",
    "R250_190 = roomTemp[1][\"Refl_250.0_190.0\"]\n",
    "R283p7_190 = roomTemp[1][\"Refl_283.7_190.0\"]\n",
    "Err250_190 = roomTemp[1][\"Err_250.0_190.0\"]\n",
    "Err283p7_190 = roomTemp[1][\"Err_283.7_190.0\"]\n",
    "\n",
    "ax.errorbar(Q250_100, R250_100*2, yerr=Err250_100*2, fmt='.-')\n",
    "ax.errorbar(Q250_190, R250_190, yerr=Err250_190, fmt='.-')\n",
    "\n",
    "ax.errorbar(Q283p7_100, R283p7_100*2e8, yerr=Err250_100*2e8, fmt='.-')\n",
    "ax.errorbar(Q283p7_190, R283p7_190*1e8, yerr=Err250_190*1e8, fmt='.-')\n",
    "\n",
    "plt.title(\"Reflectivity of Room Temp \\nPrepared ZnPc Samples\", fontsize=16)\n",
    "ax.legend([\"spol\", \"ppol\"])\n",
    "ax.hlines(5, 0, 0.25, linestyles='dashed', color = \"grey\")\n",
    "ax.text(0,1e8,r\"$\\times 10^7$\")\n",
    "ax.text(.125,3e8,\"283.7 eV\", verticalalignment='center', horizontalalignment='center', fontsize=14)\n",
    "ax.text(.125,1e0,\"250 eV\", verticalalignment='center', horizontalalignment='center', fontsize=14)\n",
    "\n",
    "plt.semilogy()\n",
    "plt.xlim(0,0.25)\n",
    "plt.xlabel(r\"Q $[/AA^{-1}]$\")\n",
    "plt.ylabel(r\"Reflectivity\")"
   ]
  },
  {
   "cell_type": "code",
   "execution_count": null,
   "metadata": {},
   "outputs": [],
   "source": [
    "fig, ax = plt.subplots(figsize=(8,8))\n",
    "sns.set_palette(\"colorblind\", n_colors=2)\n",
    "Q250_100 = roomTemp[0][\"Q_250.0_100.0\"]\n",
    "Q283p7_100 = roomTemp[0][\"Q_283.7_100.0\"]\n",
    "R250_100 = roomTemp[0][\"Refl_250.0_100.0\"]\n",
    "R283p7_100 = roomTemp[0][\"Refl_283.7_100.0\"]\n",
    "Err250_100 = roomTemp[0][\"Err_250.0_100.0\"]\n",
    "Err283p7_100 = roomTemp[0][\"Err_283.7_100.0\"]\n",
    "\n",
    "Q250_190 = roomTemp[1][\"Q_250.0_190.0\"]\n",
    "Q283p7_190 = roomTemp[1][\"Q_283.7_190.0\"]\n",
    "R250_190 = roomTemp[1][\"Refl_250.0_190.0\"]\n",
    "R283p7_190 = roomTemp[1][\"Refl_283.7_190.0\"]\n",
    "Err250_190 = roomTemp[1][\"Err_250.0_190.0\"]\n",
    "Err283p7_190 = roomTemp[1][\"Err_283.7_190.0\"]\n",
    "\n",
    "ax.errorbar(Q250_100, R250_100*2, yerr=Err250_100*2, fmt='.-')\n",
    "ax.errorbar(Q250_190, R250_190, yerr=Err250_190, fmt='.-')\n",
    "\n",
    "ax.errorbar(Q283p7_100, R283p7_100*2e8, yerr=Err250_100*2e8, fmt='.-')\n",
    "ax.errorbar(Q283p7_190, R283p7_190*1e8, yerr=Err250_190*1e8, fmt='.-')\n",
    "\n",
    "plt.title(\"Reflectivity of Room Temp \\nPrepared ZnPc Samples\", fontsize=16)\n",
    "ax.legend([\"spol\", \"ppol\"])\n",
    "ax.hlines(5, 0, 0.25, linestyles='dashed', color = \"grey\")\n",
    "ax.text(0,1e8,r\"$\\times 10^7$\")\n",
    "ax.text(.125,3e8,\"283.7 eV\", verticalalignment='center', horizontalalignment='center', fontsize=14)\n",
    "ax.text(.125,1e0,\"250 eV\", verticalalignment='center', horizontalalignment='center', fontsize=14)\n",
    "\n",
    "plt.semilogy()\n",
    "plt.xlim(0,0.25)\n",
    "plt.xlabel(r\"Q $[/AA^{-1}]$\")\n",
    "plt.ylabel(r\"Reflectivity\")"
   ]
  }
 ],
 "metadata": {
  "kernelspec": {
   "display_name": "Python 3",
   "language": "python",
   "name": "python3"
  },
  "language_info": {
   "codemirror_mode": {
    "name": "ipython",
    "version": 3
   },
   "file_extension": ".py",
   "mimetype": "text/x-python",
   "name": "python",
   "nbconvert_exporter": "python",
   "pygments_lexer": "ipython3",
   "version": "3.11.4"
  },
  "orig_nbformat": 4
 },
 "nbformat": 4,
 "nbformat_minor": 2
}
