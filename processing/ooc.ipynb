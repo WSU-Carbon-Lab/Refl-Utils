{
 "cells": [
  {
   "attachments": {},
   "cell_type": "markdown",
   "metadata": {},
   "source": [
    "# Oriented Optical Constants for Uniaxial Systems\n",
    "Harlan Heilman\n",
    "\n",
    "There are two methods of determining the oriented optical constants. \n",
    "## 1 Classical Tensor Transformations\n",
    "In this first method, we suppose that the index of refraction is a rank two tensor. Note that we will seamlessly transition between the standard index notation for tensors, and the dyadic notation. Let $n_{ij} = \\bar{\\bar n}$ be the second rank index of refraction tensor. If we suppose that this tensor is diagonalizable, then there exists primary components $n_{11}, n_{22}, n_{33}$ or, in a cartesian coordinate system, $n_{xx}, n_{yy}$, and $n_{zz}$, i.e.\n",
    "$$\n",
    "    \\bar{\\bar n} =  \\begin{pmatrix}\n",
    "                    n_{xx} & 0 & 0\\\\\n",
    "                    0 & n_{yy} & 0\\\\\n",
    "                    0 & 0 & n_{zz}\n",
    "                    \\end{pmatrix}. \n",
    "$$\n",
    "\n",
    "By definition, the uniaxial tensor can be reduced in dimensionality to two components, $n_{xx} = n_{yy} = n_{\\parallel}$, and $n_{zz} = n_{\\perp}$, i.e.,\n",
    "$$\n",
    "    \\bar{\\bar n} =  \\begin{pmatrix}\n",
    "                    n_\\parallel & 0 & 0\\\\\n",
    "                    0 & n_\\parallel & 0\\\\\n",
    "                    0 & 0 & n_\\perp\n",
    "                    \\end{pmatrix}. \n",
    "$$\n",
    "\n",
    "Thus, when measuring the electric field in a material,"
   ]
  },
  {
   "cell_type": "markdown",
   "metadata": {},
   "source": []
  }
 ],
 "metadata": {
  "language_info": {
   "name": "python"
  },
  "orig_nbformat": 4
 },
 "nbformat": 4,
 "nbformat_minor": 2
}
